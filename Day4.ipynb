{
 "cells": [
  {
   "cell_type": "code",
   "execution_count": 1,
   "id": "3c94a1d5",
   "metadata": {},
   "outputs": [],
   "source": [
    "input = [line.split(',') for line in open('input4.txt').read().splitlines()]"
   ]
  },
  {
   "cell_type": "code",
   "execution_count": 2,
   "id": "029d2b14",
   "metadata": {},
   "outputs": [
    {
     "name": "stdout",
     "output_type": "stream",
     "text": [
      "528\n",
      "881\n"
     ]
    }
   ],
   "source": [
    "count1 = 0\n",
    "count2 = 0\n",
    "for pair in input:\n",
    "    set0 = set(range(int(pair[0].split('-')[0]), 1 + int(pair[0].split('-')[1])))\n",
    "    set1 = set(range(int(pair[1].split('-')[0]), 1 + int(pair[1].split('-')[1])))\n",
    "    if set0.intersection(set1) in [set0, set1]:\n",
    "        count1 += 1\n",
    "    if set0.intersection(set1) != set():\n",
    "        count2 += 1\n",
    "        \n",
    "print(count1)\n",
    "print(count2)"
   ]
  }
 ],
 "metadata": {
  "kernelspec": {
   "display_name": "Python 3 (ipykernel)",
   "language": "python",
   "name": "python3"
  },
  "language_info": {
   "codemirror_mode": {
    "name": "ipython",
    "version": 3
   },
   "file_extension": ".py",
   "mimetype": "text/x-python",
   "name": "python",
   "nbconvert_exporter": "python",
   "pygments_lexer": "ipython3",
   "version": "3.10.7"
  }
 },
 "nbformat": 4,
 "nbformat_minor": 5
}
