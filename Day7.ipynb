{
 "cells": [
  {
   "cell_type": "code",
   "execution_count": 28,
   "id": "7c387cb0",
   "metadata": {},
   "outputs": [],
   "source": [
    "input = open('input7.txt').read().splitlines()\n",
    "\n",
    "directory = {'/':{}}\n",
    "path = []\n",
    "\n",
    "def get_cwd():\n",
    "    cwd = directory\n",
    "    for name in path:\n",
    "        cwd = cwd[name]\n",
    "    return cwd\n",
    "\n",
    "for line in input: \n",
    "    if '$ cd ' in line:\n",
    "        name = line.replace('$ cd ','')\n",
    "        if name == '..':\n",
    "            path.pop()\n",
    "        else:\n",
    "            path.append(name)\n",
    "    elif line != '$ ls':\n",
    "        if 'dir ' in line:\n",
    "            get_cwd()[line.replace('dir ','')] = {}\n",
    "        else:\n",
    "            file = line.split()\n",
    "            get_cwd()[file[1]] = int(file[0])"
   ]
  },
  {
   "cell_type": "code",
   "execution_count": 29,
   "id": "710de43e",
   "metadata": {},
   "outputs": [
    {
     "name": "stdout",
     "output_type": "stream",
     "text": [
      "1723892\n"
     ]
    }
   ],
   "source": [
    "folders = {}\n",
    "path = []\n",
    "def count(folder):\n",
    "    for key, item in folder.items():\n",
    "        if isinstance(item, int):\n",
    "            copy = path.copy()\n",
    "            for name in path[::-1]:\n",
    "                folders['/'.join(copy)] += item\n",
    "                copy.pop()\n",
    "        else:\n",
    "            path.append(key)\n",
    "            folders['/'.join(path)] = 0\n",
    "            old_len = len(path)\n",
    "            count(item)\n",
    "            del path[old_len - len(path)-1:]\n",
    "\n",
    "count(directory)\n",
    "\n",
    "print(sum([size if size <= 100000 else 0 for key,size in folders.items()]))"
   ]
  },
  {
   "cell_type": "code",
   "execution_count": 33,
   "id": "28146928",
   "metadata": {},
   "outputs": [
    {
     "name": "stdout",
     "output_type": "stream",
     "text": [
      "8474158\n"
     ]
    }
   ],
   "source": [
    "needed_space = 30000000 - (70000000 - folders['/'])\n",
    "min_size = 70000000 \n",
    "for key, item in folders.items():\n",
    "    if needed_space <= item <= min_size:\n",
    "        min_size = item\n",
    "\n",
    "print(min_size)"
   ]
  },
  {
   "cell_type": "code",
   "execution_count": null,
   "id": "c7b72005",
   "metadata": {},
   "outputs": [],
   "source": []
  }
 ],
 "metadata": {
  "kernelspec": {
   "display_name": "Python 3 (ipykernel)",
   "language": "python",
   "name": "python3"
  },
  "language_info": {
   "codemirror_mode": {
    "name": "ipython",
    "version": 3
   },
   "file_extension": ".py",
   "mimetype": "text/x-python",
   "name": "python",
   "nbconvert_exporter": "python",
   "pygments_lexer": "ipython3",
   "version": "3.10.7"
  }
 },
 "nbformat": 4,
 "nbformat_minor": 5
}
