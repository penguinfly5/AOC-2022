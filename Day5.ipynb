{
 "cells": [
  {
   "cell_type": "code",
   "execution_count": 1,
   "id": "d5c4578e",
   "metadata": {},
   "outputs": [],
   "source": [
    "stacks = [list(line.replace('\\n',''))[1::4] for line in open('input5_stacks.txt')]\n",
    "stacks.pop()\n",
    "stacks.reverse()\n",
    "stacks = list(zip(*stacks))\n",
    "\n",
    "for i, stack in enumerate(stacks):\n",
    "    no_space = []\n",
    "    for crate in stack:\n",
    "        if crate != ' ':\n",
    "            no_space.append(crate)\n",
    "    stacks[i] = no_space"
   ]
  },
  {
   "cell_type": "code",
   "execution_count": 2,
   "id": "418e90ca",
   "metadata": {},
   "outputs": [],
   "source": [
    "import re\n",
    "\n",
    "regex = re.findall('move (\\d+) from (\\d+) to (\\d+)', open('input5_instructions.txt').read())\n",
    "instructions = [[int(x[0]), int(x[1])-1, int(x[2])-1] for x in regex]"
   ]
  },
  {
   "cell_type": "code",
   "execution_count": 3,
   "id": "b26584a5",
   "metadata": {},
   "outputs": [
    {
     "name": "stdout",
     "output_type": "stream",
     "text": [
      "NTWZZWHFV\n",
      "BRZGFVBTJ\n"
     ]
    }
   ],
   "source": [
    "import copy\n",
    "stacks1 = copy.deepcopy(stacks)\n",
    "stacks2 = copy.deepcopy(stacks)\n",
    "\n",
    "for step in instructions:\n",
    "    stacks1[step[2]] += stacks1[step[1]][-step[0]:][::-1]\n",
    "    del stacks1[step[1]][-step[0]:]\n",
    "    \n",
    "    stacks2[step[2]] += stacks2[step[1]][-step[0]:]\n",
    "    del stacks2[step[1]][-step[0]:]\n",
    "    \n",
    "print(''.join([stack[len(stack)-1] for stack in stacks1]))\n",
    "print(''.join([stack[len(stack)-1] for stack in stacks2]))"
   ]
  },
  {
   "cell_type": "code",
   "execution_count": null,
   "id": "87e60b55",
   "metadata": {},
   "outputs": [],
   "source": []
  }
 ],
 "metadata": {
  "kernelspec": {
   "display_name": "Python 3 (ipykernel)",
   "language": "python",
   "name": "python3"
  },
  "language_info": {
   "codemirror_mode": {
    "name": "ipython",
    "version": 3
   },
   "file_extension": ".py",
   "mimetype": "text/x-python",
   "name": "python",
   "nbconvert_exporter": "python",
   "pygments_lexer": "ipython3",
   "version": "3.10.7"
  }
 },
 "nbformat": 4,
 "nbformat_minor": 5
}
