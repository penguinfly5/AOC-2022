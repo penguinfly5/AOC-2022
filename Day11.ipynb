{
 "cells": [
  {
   "cell_type": "code",
   "execution_count": 78,
   "id": "a0aac4a8",
   "metadata": {},
   "outputs": [
    {
     "name": "stdout",
     "output_type": "stream",
     "text": [
      "56595\n",
      "15693274740\n"
     ]
    }
   ],
   "source": [
    "import copy\n",
    "\n",
    "input11 = list(open('input11.txt').read().split('\\n\\n'))\n",
    "\n",
    "monkeys = [[] for monkey in input11]\n",
    "product = 1\n",
    "\n",
    "for i, monkey in enumerate(input11):\n",
    "    info = monkey.split('\\n  ')\n",
    "    monkeys[i].append(list(map(int, info[1].replace('Starting items: ','').split(', '))))\n",
    "    monkeys[i].append(info[2].replace('Operation: new = old ','').split())    \n",
    "    test = int(info[3].replace('Test: divisible by ',''))\n",
    "    product *= test\n",
    "    monkeys[i].append(test)\n",
    "    \n",
    "    monkeys[i].append([int(info[4].replace('If true: throw to monkey ','')), \\\n",
    "                       int(info[5].replace('If false: throw to monkey ',''))])\n",
    "\n",
    "    \n",
    "def monkey_business(div,rounds):\n",
    "    monkopy = copy.deepcopy(monkeys)\n",
    "    inspections = [0 for monkey in monkopy]\n",
    "    for i in range(rounds):\n",
    "        for j, monkey in enumerate(monkopy):\n",
    "            for item in monkey[0]:\n",
    "                inspections[j] += 1\n",
    "                x = item if monkey[1][1] == 'old' else int(monkey[1][1])\n",
    "                new = (item*x//div if monkey[1][0] == '*' else (item+x)//div)%product\n",
    "                if new%monkey[2] == 0:\n",
    "                    monkopy[monkey[3][0]][0].append(new)\n",
    "                else:\n",
    "                    monkopy[monkey[3][1]][0].append(new)\n",
    "            monkey[0] = []\n",
    "    max1 = max(inspections)\n",
    "    inspections.remove(max1)\n",
    "    return max1*max(inspections)\n",
    "\n",
    "print(monkey_business(3,20))\n",
    "print(monkey_business(1,10000))"
   ]
  },
  {
   "cell_type": "code",
   "execution_count": null,
   "id": "1aa5fb03",
   "metadata": {},
   "outputs": [],
   "source": []
  }
 ],
 "metadata": {
  "kernelspec": {
   "display_name": "Python 3 (ipykernel)",
   "language": "python",
   "name": "python3"
  },
  "language_info": {
   "codemirror_mode": {
    "name": "ipython",
    "version": 3
   },
   "file_extension": ".py",
   "mimetype": "text/x-python",
   "name": "python",
   "nbconvert_exporter": "python",
   "pygments_lexer": "ipython3",
   "version": "3.10.7"
  }
 },
 "nbformat": 4,
 "nbformat_minor": 5
}
