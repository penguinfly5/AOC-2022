{
 "cells": [
  {
   "cell_type": "code",
   "execution_count": 60,
   "id": "8ce86649",
   "metadata": {},
   "outputs": [
    {
     "name": "stdout",
     "output_type": "stream",
     "text": [
      "6376\n",
      "2607\n"
     ]
    }
   ],
   "source": [
    "input9 = open('input9.txt').read().splitlines()\n",
    "\n",
    "instructions = [[line.split()[0], int(line.split()[1])] for line in input9]\n",
    "moves = {'U':(0,1), 'D':(0,-1), 'R':(1,0), 'L':(-1,0)}\n",
    "\n",
    "pos = [(0,0) for i in range(10)]\n",
    "\n",
    "visited1 = {(0,0)}\n",
    "visited2 = {(0,0)}\n",
    "\n",
    "for instruction in instructions:\n",
    "    for i in range(instruction[1]):\n",
    "        pos[0] = tuple(pos[0][i] + moves[instruction[0]][i] for i in [0,1])\n",
    "        for j in range(1,len(pos)):\n",
    "            dx = pos[j-1][0]-pos[j][0]\n",
    "            dy = pos[j-1][1]-pos[j][1]\n",
    "            if abs(dx) > 1 or abs(dy) > 1:\n",
    "                pos[j] = (pos[j][0] + (0 if dx==0 else dx//abs(dx)), pos[j][1] + (0 if dy==0 else dy//abs(dy)))\n",
    "        visited1.add(pos[1])\n",
    "        visited2.add(pos[9])\n",
    "        \n",
    "print(len(visited1))\n",
    "print(len(visited2))"
   ]
  }
 ],
 "metadata": {
  "kernelspec": {
   "display_name": "Python 3 (ipykernel)",
   "language": "python",
   "name": "python3"
  },
  "language_info": {
   "codemirror_mode": {
    "name": "ipython",
    "version": 3
   },
   "file_extension": ".py",
   "mimetype": "text/x-python",
   "name": "python",
   "nbconvert_exporter": "python",
   "pygments_lexer": "ipython3",
   "version": "3.10.7"
  }
 },
 "nbformat": 4,
 "nbformat_minor": 5
}
