{
 "cells": [
  {
   "cell_type": "code",
   "execution_count": 1,
   "id": "407ee32e",
   "metadata": {},
   "outputs": [],
   "source": [
    "input = [[]]\n",
    "\n",
    "for line in open('input1.txt','r'):\n",
    "    num = line.replace('\\n','')\n",
    "    if line.replace('\\n','') == '':\n",
    "        input.append([])\n",
    "    else:\n",
    "        input[len(input)-1].append(int(num))"
   ]
  },
  {
   "cell_type": "code",
   "execution_count": 2,
   "id": "75088772",
   "metadata": {},
   "outputs": [
    {
     "name": "stdout",
     "output_type": "stream",
     "text": [
      "The most calories carried by a single elf is 66487\n"
     ]
    }
   ],
   "source": [
    "max_cals = 0\n",
    "\n",
    "for snacks in input:\n",
    "    if sum(snacks) > max_cals:\n",
    "        max_cals = sum(snacks)\n",
    "\n",
    "print(\"The most calories carried by a single elf is \" + str(max_cals))"
   ]
  },
  {
   "cell_type": "code",
   "execution_count": 3,
   "id": "c6ca77c6",
   "metadata": {},
   "outputs": [
    {
     "name": "stdout",
     "output_type": "stream",
     "text": [
      "The total number of calories carried by the top 3 elves is 197301\n"
     ]
    }
   ],
   "source": [
    "top_cals = [0,0,0]\n",
    "top_elves = []\n",
    "\n",
    "for i in [0,1,2]:\n",
    "    top_elf = 0\n",
    "    for elf, snacks in enumerate(input):\n",
    "        if sum(snacks) > top_cals[i] and not elf in top_elves:\n",
    "            top_cals[i] = sum(snacks)\n",
    "            top_elf = elf\n",
    "    top_elves.append(top_elf)\n",
    "\n",
    "print(\"The total number of calories carried by the top 3 elves is \" + str(sum(top_cals)))"
   ]
  }
 ],
 "metadata": {
  "kernelspec": {
   "display_name": "Python 3 (ipykernel)",
   "language": "python",
   "name": "python3"
  },
  "language_info": {
   "codemirror_mode": {
    "name": "ipython",
    "version": 3
   },
   "file_extension": ".py",
   "mimetype": "text/x-python",
   "name": "python",
   "nbconvert_exporter": "python",
   "pygments_lexer": "ipython3",
   "version": "3.10.7"
  }
 },
 "nbformat": 4,
 "nbformat_minor": 5
}
