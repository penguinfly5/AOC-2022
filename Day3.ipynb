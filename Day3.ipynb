{
 "cells": [
  {
   "cell_type": "code",
   "execution_count": 1,
   "id": "d018ef0a",
   "metadata": {
    "scrolled": false
   },
   "outputs": [],
   "source": [
    "input = [list(line.replace('\\n','')) for line in open('input3.txt','r')]"
   ]
  },
  {
   "cell_type": "code",
   "execution_count": 2,
   "id": "04dc2ff9",
   "metadata": {},
   "outputs": [
    {
     "name": "stdout",
     "output_type": "stream",
     "text": [
      "8123\n"
     ]
    }
   ],
   "source": [
    "prio = []\n",
    "\n",
    "for line in input:\n",
    "    parts = [line[:int(len(line)/2)], line[int(len(line)/2):]]\n",
    "    for char in parts[0]:\n",
    "        if char in parts[1]:\n",
    "            prio.append(ord(char)-96 if ord(char)>= 97 else ord(char)-64+26) #ord('a') = 97, ord('A') = 65\n",
    "            break;\n",
    "            \n",
    "print(sum(prio))"
   ]
  },
  {
   "cell_type": "code",
   "execution_count": 3,
   "id": "a61987bb",
   "metadata": {},
   "outputs": [
    {
     "name": "stdout",
     "output_type": "stream",
     "text": [
      "2620\n"
     ]
    }
   ],
   "source": [
    "prio2 = []\n",
    "\n",
    "groups = [input[3*i:3*(i+1)] for i in range(0,int(len(input)/3))]\n",
    "\n",
    "for group in groups:\n",
    "    for char in group[0]:\n",
    "        if char in group[1] and char in group[2]:\n",
    "            prio2.append(ord(char)-96 if ord(char)>= 97 else ord(char)-64+26) #ord('a') = 97, ord('A') = 65\n",
    "            break;\n",
    "\n",
    "print(sum(prio2))"
   ]
  },
  {
   "cell_type": "code",
   "execution_count": null,
   "id": "68027a6a",
   "metadata": {},
   "outputs": [],
   "source": []
  }
 ],
 "metadata": {
  "kernelspec": {
   "display_name": "Python 3 (ipykernel)",
   "language": "python",
   "name": "python3"
  },
  "language_info": {
   "codemirror_mode": {
    "name": "ipython",
    "version": 3
   },
   "file_extension": ".py",
   "mimetype": "text/x-python",
   "name": "python",
   "nbconvert_exporter": "python",
   "pygments_lexer": "ipython3",
   "version": "3.10.7"
  }
 },
 "nbformat": 4,
 "nbformat_minor": 5
}
