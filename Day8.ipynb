{
 "cells": [
  {
   "cell_type": "code",
   "execution_count": 57,
   "id": "4db5edea",
   "metadata": {},
   "outputs": [
    {
     "name": "stdout",
     "output_type": "stream",
     "text": [
      "1546\n",
      "519064\n"
     ]
    }
   ],
   "source": [
    "input8 = open('input8.txt').read().splitlines()\n",
    "\n",
    "visible = 0\n",
    "scores = []\n",
    "\n",
    "def get_count(sec, direc, pos):\n",
    "    count = pos if direc == -1 else len(sec) - pos - 1 \n",
    "    for k in range(1, count + 1):\n",
    "        if sec[pos + direc*k] >= sec[pos]:\n",
    "            count = k\n",
    "            break\n",
    "    return count\n",
    "\n",
    "for i, line in enumerate(input8):\n",
    "    for j, tree in enumerate(line):\n",
    "        col = [int(input8[k][j]) for k in range(len(input8))]\n",
    "        row = list(map(int,line))\n",
    "        \n",
    "        if i in [0,len(input8)-1] or j in [0,len(line)-1] \\\n",
    "        or int(tree) > max(row[:j]) or int(tree) > max(row[j+1:]) \\\n",
    "        or int(tree) > max(col[:i]) or int(tree) > max(col[i+1:]):\n",
    "            visible += 1\n",
    "            \n",
    "        left = get_count(row,-1,j)\n",
    "        right = get_count(row,1,j)\n",
    "        top = get_count(col,-1,i)\n",
    "        bot = get_count(col,1,i)\n",
    "        scores.append(left*right*top*bot)\n",
    "\n",
    "print(visible)\n",
    "print(max(scores))"
   ]
  },
  {
   "cell_type": "code",
   "execution_count": null,
   "id": "51119bc1",
   "metadata": {},
   "outputs": [],
   "source": []
  }
 ],
 "metadata": {
  "kernelspec": {
   "display_name": "Python 3 (ipykernel)",
   "language": "python",
   "name": "python3"
  },
  "language_info": {
   "codemirror_mode": {
    "name": "ipython",
    "version": 3
   },
   "file_extension": ".py",
   "mimetype": "text/x-python",
   "name": "python",
   "nbconvert_exporter": "python",
   "pygments_lexer": "ipython3",
   "version": "3.10.7"
  }
 },
 "nbformat": 4,
 "nbformat_minor": 5
}
