{
 "cells": [
  {
   "cell_type": "code",
   "execution_count": 80,
   "id": "5507907c",
   "metadata": {},
   "outputs": [
    {
     "name": "stdout",
     "output_type": "stream",
     "text": [
      "14520\n",
      "😈😈😈💀💀😈😈😈😈💀😈😈😈💀💀💀😈😈💀💀😈😈😈😈💀😈😈😈😈💀💀💀😈😈💀😈😈😈💀💀\n",
      "😈💀💀😈💀💀💀💀😈💀😈💀💀😈💀😈💀💀😈💀💀💀💀😈💀😈💀💀💀💀💀💀💀😈💀😈💀💀😈💀\n",
      "😈💀💀😈💀💀💀😈💀💀😈😈😈💀💀😈💀💀💀💀💀💀😈💀💀😈😈😈💀💀💀💀💀😈💀😈😈😈💀💀\n",
      "😈😈😈💀💀💀😈💀💀💀😈💀💀😈💀😈💀😈😈💀💀😈💀💀💀😈💀💀💀💀💀💀💀😈💀😈💀💀😈💀\n",
      "😈💀💀💀💀😈💀💀💀💀😈💀💀😈💀😈💀💀😈💀😈💀💀💀💀😈💀💀💀💀😈💀💀😈💀😈💀💀😈💀\n",
      "😈💀💀💀💀😈😈😈😈💀😈😈😈💀💀💀😈😈😈💀😈😈😈😈💀😈😈😈😈💀💀😈😈💀💀😈😈😈💀💀\n",
      "\n"
     ]
    }
   ],
   "source": [
    "input10 = open('input10.txt').read().splitlines()\n",
    "instructions = [[2, int(line.split()[1])] if 'addx ' in line else [1,0] for line in input10]\n",
    "\n",
    "X = [1]\n",
    "\n",
    "addx = 0\n",
    "for i, step in enumerate(instructions):\n",
    "    X.append(X[len(X)-1] + addx)\n",
    "    if step[0] == 2:\n",
    "        X.append(X[len(X)-1])\n",
    "    addx = step[1]\n",
    "\n",
    "print(sum(i*X[i] for i in range(20,221,40)))\n",
    "\n",
    "screen = ''\n",
    "for i in range(len(X)-1): \n",
    "    if abs(X[i+1]-i%40) <= 1:\n",
    "        screen += '😈'\n",
    "    else:\n",
    "        screen += '💀'\n",
    "    if (i+1)%40 == 0:\n",
    "        screen += '\\n'\n",
    "    \n",
    "print(screen)"
   ]
  },
  {
   "cell_type": "code",
   "execution_count": null,
   "id": "afcb62b9",
   "metadata": {},
   "outputs": [],
   "source": []
  }
 ],
 "metadata": {
  "kernelspec": {
   "display_name": "Python 3 (ipykernel)",
   "language": "python",
   "name": "python3"
  },
  "language_info": {
   "codemirror_mode": {
    "name": "ipython",
    "version": 3
   },
   "file_extension": ".py",
   "mimetype": "text/x-python",
   "name": "python",
   "nbconvert_exporter": "python",
   "pygments_lexer": "ipython3",
   "version": "3.10.7"
  }
 },
 "nbformat": 4,
 "nbformat_minor": 5
}
