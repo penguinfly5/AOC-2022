{
 "cells": [
  {
   "cell_type": "code",
   "execution_count": 1,
   "id": "346ab6ca",
   "metadata": {
    "scrolled": true
   },
   "outputs": [],
   "source": [
    "input = [line.replace('\\n','').split() for line in open('input2.txt','r')]"
   ]
  },
  {
   "cell_type": "code",
   "execution_count": 2,
   "id": "2a91a260",
   "metadata": {},
   "outputs": [
    {
     "name": "stdout",
     "output_type": "stream",
     "text": [
      "11386\n"
     ]
    }
   ],
   "source": [
    "scores = {'A':{'X':4,'Y':8,'Z':3}, \\\n",
    "          'B':{'X':1,'Y':5,'Z':9}, \\\n",
    "          'C':{'X':7,'Y':2,'Z':6}}\n",
    "    \n",
    "print(sum([scores[round[0]][round[1]] for round in input]))"
   ]
  },
  {
   "cell_type": "code",
   "execution_count": 3,
   "id": "1ec86f98",
   "metadata": {},
   "outputs": [
    {
     "name": "stdout",
     "output_type": "stream",
     "text": [
      "13600\n"
     ]
    }
   ],
   "source": [
    "scores2 = {'A':{'X':3,'Y':4,'Z':8}, \\\n",
    "           'B':{'X':1,'Y':5,'Z':9}, \\\n",
    "           'C':{'X':2,'Y':6,'Z':7}}\n",
    "\n",
    "print(sum([scores2[round[0]][round[1]] for round in input]))"
   ]
  }
 ],
 "metadata": {
  "kernelspec": {
   "display_name": "Python 3 (ipykernel)",
   "language": "python",
   "name": "python3"
  },
  "language_info": {
   "codemirror_mode": {
    "name": "ipython",
    "version": 3
   },
   "file_extension": ".py",
   "mimetype": "text/x-python",
   "name": "python",
   "nbconvert_exporter": "python",
   "pygments_lexer": "ipython3",
   "version": "3.10.7"
  }
 },
 "nbformat": 4,
 "nbformat_minor": 5
}
