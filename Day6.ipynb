{
 "cells": [
  {
   "cell_type": "code",
   "execution_count": 20,
   "id": "16ef21a7",
   "metadata": {},
   "outputs": [
    {
     "name": "stdout",
     "output_type": "stream",
     "text": [
      "1850\n",
      "2823\n"
     ]
    }
   ],
   "source": [
    "input = list(open('input6.txt').read())\n",
    "\n",
    "for i in range(3,len(input)):\n",
    "    if len(set(input[i-3:i+1])) == 4:\n",
    "        print(i+1)\n",
    "        break\n",
    "        \n",
    "for i in range(13,len(input)):\n",
    "    if len(set(input[i-13:i+1])) == 14:\n",
    "        print(i+1)\n",
    "        break"
   ]
  },
  {
   "cell_type": "code",
   "execution_count": 22,
   "id": "55430866",
   "metadata": {},
   "outputs": [
    {
     "name": "stdout",
     "output_type": "stream",
     "text": [
      "1850\n",
      "2823\n"
     ]
    }
   ],
   "source": [
    "input = list(open('input7.txt').read())\n",
    "\n",
    "def get_index(length):\n",
    "    for i in range(length-1,len(input)):\n",
    "        if len(set(input[i-length+1:i+1])) == length:\n",
    "            return i+1\n",
    "    \n",
    "print(get_index(4))\n",
    "print(get_index(14))"
   ]
  },
  {
   "cell_type": "code",
   "execution_count": null,
   "id": "3c699ca9",
   "metadata": {},
   "outputs": [],
   "source": []
  }
 ],
 "metadata": {
  "kernelspec": {
   "display_name": "Python 3 (ipykernel)",
   "language": "python",
   "name": "python3"
  },
  "language_info": {
   "codemirror_mode": {
    "name": "ipython",
    "version": 3
   },
   "file_extension": ".py",
   "mimetype": "text/x-python",
   "name": "python",
   "nbconvert_exporter": "python",
   "pygments_lexer": "ipython3",
   "version": "3.10.7"
  }
 },
 "nbformat": 4,
 "nbformat_minor": 5
}
