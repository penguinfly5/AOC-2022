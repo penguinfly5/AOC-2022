{
 "cells": [
  {
   "cell_type": "code",
   "execution_count": 58,
   "id": "781b1df2",
   "metadata": {},
   "outputs": [],
   "source": [
    "input13 = open('input13.txt').read().split('\\n\\n')\n",
    "\n",
    "def parse(x):\n",
    "    out = []\n",
    "    cont = 0\n",
    "    num = ''\n",
    "    for i,v in enumerate(x):\n",
    "        if cont != 0:\n",
    "            cont-=1\n",
    "            continue\n",
    "        elif v == '[':\n",
    "            brackets = 0\n",
    "            for j,w in enumerate(x[i:]):\n",
    "                if w == '[':\n",
    "                    brackets+=1\n",
    "                elif w == ']':\n",
    "                    brackets-=1\n",
    "                if brackets == 0:\n",
    "                    out.append(parse(x[i+1:i+j+1]))\n",
    "                    cont = j\n",
    "                    break\n",
    "        elif v == ']':\n",
    "            break\n",
    "        elif v.isdigit():\n",
    "            num += v\n",
    "            if not x[i+1].isdigit():\n",
    "                out.append(int(num))\n",
    "                num = ''\n",
    "    return out\n",
    "\n",
    "def is_ordered(x,y):\n",
    "    if isinstance(x,int) and isinstance(y,int):\n",
    "        if x<y:\n",
    "            return 1\n",
    "        elif x>y:\n",
    "            return -1\n",
    "        else:\n",
    "            return 0\n",
    "    elif isinstance(x,int) and not isinstance(y,int):\n",
    "        return is_ordered([x],y)\n",
    "    elif not isinstance(x,int) and isinstance(y,int):\n",
    "        return is_ordered(x,[y])\n",
    "    else:\n",
    "        for i in range(len(x)):\n",
    "            if i >= len(y):\n",
    "                return -1\n",
    "            else:\n",
    "                a = is_ordered(x[i],y[i])\n",
    "                if a != 0:\n",
    "                    return a\n",
    "        if len(x) < len(y):\n",
    "            return 1     \n",
    "        else:\n",
    "            return 0\n",
    "    \n",
    "pairs = [[parse(pair.split('\\n')[0][1:]), parse(pair.split('\\n')[1][1:])] for pair in input13] "
   ]
  },
  {
   "cell_type": "code",
   "execution_count": 59,
   "id": "4b99b367",
   "metadata": {},
   "outputs": [
    {
     "name": "stdout",
     "output_type": "stream",
     "text": [
      "6568\n"
     ]
    }
   ],
   "source": [
    "good = []\n",
    "for i, pair in enumerate(pairs, start=1):\n",
    "    if is_ordered(pair[0],pair[1]) == 1:\n",
    "        good.append(i)\n",
    "        \n",
    "print(sum(good))"
   ]
  },
  {
   "cell_type": "code",
   "execution_count": 62,
   "id": "ed5092e6",
   "metadata": {},
   "outputs": [
    {
     "name": "stdout",
     "output_type": "stream",
     "text": [
      "19493\n"
     ]
    }
   ],
   "source": [
    "packets = [ [[2]] , [[6]] ]\n",
    "for pair in pairs:\n",
    "    packets += pair\n",
    "    \n",
    "while True:\n",
    "    restart = False\n",
    "    for i in range(len(packets)-1):\n",
    "        if is_ordered(packets[i],packets[i+1]) == -1:\n",
    "            temp = packets[i+1]\n",
    "            packets[i+1] = packets[i]\n",
    "            packets[i] = temp\n",
    "            \n",
    "            restart = True\n",
    "            break\n",
    "    if restart:\n",
    "        continue\n",
    "    else:\n",
    "        break\n",
    "        \n",
    "print((1+packets.index([[2]]))*(1+packets.index([[6]])))"
   ]
  }
 ],
 "metadata": {
  "kernelspec": {
   "display_name": "Python 3 (ipykernel)",
   "language": "python",
   "name": "python3"
  },
  "language_info": {
   "codemirror_mode": {
    "name": "ipython",
    "version": 3
   },
   "file_extension": ".py",
   "mimetype": "text/x-python",
   "name": "python",
   "nbconvert_exporter": "python",
   "pygments_lexer": "ipython3",
   "version": "3.10.7"
  }
 },
 "nbformat": 4,
 "nbformat_minor": 5
}
